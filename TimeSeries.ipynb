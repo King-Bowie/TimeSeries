{
  "nbformat": 4,
  "nbformat_minor": 0,
  "metadata": {
    "colab": {
      "name": "TimeSeries.ipynb",
      "provenance": [],
      "toc_visible": true,
      "authorship_tag": "ABX9TyOLZMlWCMFVA+/pvJXldKaL",
      "include_colab_link": true
    },
    "kernelspec": {
      "name": "python3",
      "display_name": "Python 3"
    },
    "language_info": {
      "name": "python"
    }
  },
  "cells": [
    {
      "cell_type": "markdown",
      "metadata": {
        "id": "view-in-github",
        "colab_type": "text"
      },
      "source": [
        "<a href=\"https://colab.research.google.com/github/King-Bowie/TimeSeries/blob/main/TimeSeries.ipynb\" target=\"_parent\"><img src=\"https://colab.research.google.com/assets/colab-badge.svg\" alt=\"Open In Colab\"/></a>"
      ]
    },
    {
      "cell_type": "markdown",
      "metadata": {
        "id": "-2t0w94z3mtx"
      },
      "source": [
        "#Capitulo 1: Introdução"
      ]
    },
    {
      "cell_type": "markdown",
      "metadata": {
        "id": "_6ura4m63WtK"
      },
      "source": [
        "Neste notebook estou estudando análise de dados temporais, será utilizado a biblioteca Matplotlib e Seaborn."
      ]
    },
    {
      "cell_type": "code",
      "metadata": {
        "id": "uVd8DxTF3Lc2"
      },
      "source": [
        ""
      ],
      "execution_count": null,
      "outputs": []
    }
  ]
}